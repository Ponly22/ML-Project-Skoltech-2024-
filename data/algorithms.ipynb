{
 "cells": [
  {
   "cell_type": "code",
   "execution_count": 1,
   "metadata": {},
   "outputs": [],
   "source": [
    "import pandas as pd"
   ]
  },
  {
   "cell_type": "code",
   "execution_count": 5,
   "metadata": {},
   "outputs": [],
   "source": [
    "X_balance_scale = pd.read_csv('data/X_balance_scale', delimiter=',')\n",
    "y_balance_scale = pd.read_csv('data/y_balance_Scale', delimiter=',')\n",
    "\n",
    "X_car_eval = pd.read_csv('data/X_car_eval', delimiter=',')\n",
    "y_car_eval = pd.read_csv('data/y_car_eval', delimiter=',')\n",
    "\n",
    "X_contraceptive = pd.read_csv('data/X_contraceptive', delimiter=',')\n",
    "y_contraceptive = pd.read_csv('data/y_contraceptive', delimiter=',')\n",
    "\n",
    "X_dermatology = pd.read_csv('data/X_dermatology', delimiter=',')\n",
    "y_dermatology = pd.read_csv('data/y_dermatology', delimiter=',')\n",
    "\n",
    "X_glass = pd.read_csv('data/X_glass', delimiter=',')\n",
    "y_glass = pd.read_csv('data/y_glass', delimiter=',')\n",
    "\n",
    "X_hayes = pd.read_csv('data/X_hayes', delimiter=',')\n",
    "y_hayes = pd.read_csv('data/y_hayes', delimiter=',')\n",
    "\n",
    "X_heart = pd.read_csv('data/X_heart', delimiter=',')\n",
    "y_heart = pd.read_csv('data/y_heart', delimiter=',')\n",
    "\n",
    "X_new_thyroid = pd.read_csv('data/X_new_thyroid', delimiter=',')\n",
    "y_new_thyroid = pd.read_csv('data/y_new_thyroid', delimiter=',')\n",
    "\n",
    "X_page = pd.read_csv('data/X_page', delimiter=',')\n",
    "y_page = pd.read_csv('data/y_page', delimiter=',')\n",
    "\n",
    "X_pen_based = pd.read_csv('data/X_pen_based', delimiter=',')\n",
    "y_pen_based = pd.read_csv('data/y_pen_based', delimiter=',')\n",
    "\n",
    "X_shuttle = pd.read_csv('data/X_shuttle', delimiter=',')\n",
    "y_shuttle = pd.read_csv('data/y_shuttle', delimiter=',')\n",
    "\n",
    "X_vertebra = pd.read_csv('data/X_vertebra', delimiter=',')\n",
    "y_vertebra = pd.read_csv('data/y_vertebra', delimiter=',')\n",
    "\n",
    "X_wine = pd.read_csv('data/X_wine', delimiter=',')\n",
    "Xy_wine = pd.read_csv('data/y_wine', delimiter=',')\n",
    "\n",
    "X_yeast = pd.read_csv('data/X_yeast', delimiter=',')\n",
    "y_yeast = pd.read_csv('data/y_yeast', delimiter=',')\n",
    "\n",
    "X_fars = pd.read_csv(\"\")"
   ]
  }
 ],
 "metadata": {
  "kernelspec": {
   "display_name": "base",
   "language": "python",
   "name": "python3"
  },
  "language_info": {
   "codemirror_mode": {
    "name": "ipython",
    "version": 3
   },
   "file_extension": ".py",
   "mimetype": "text/x-python",
   "name": "python",
   "nbconvert_exporter": "python",
   "pygments_lexer": "ipython3",
   "version": "3.9.13"
  }
 },
 "nbformat": 4,
 "nbformat_minor": 2
}
