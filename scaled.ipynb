{
 "cells": [
  {
   "cell_type": "code",
   "execution_count": 4,
   "metadata": {},
   "outputs": [],
   "source": [
    "import pandas as pd\n",
    "import warnings\n",
    "warnings.filterwarnings(\"ignore\")"
   ]
  },
  {
   "cell_type": "markdown",
   "metadata": {},
   "source": [
    "# Downloading data\n"
   ]
  },
  {
   "cell_type": "code",
   "execution_count": 5,
   "metadata": {},
   "outputs": [],
   "source": [
    "X_balance_scale = pd.read_csv('data/X_balance_scale', delimiter=',')\n",
    "y_balance_scale = pd.read_csv('data/y_balance_Scale', delimiter=',')\n",
    "\n",
    "X_car_eval = pd.read_csv('data/X_car_eval', delimiter=',')\n",
    "y_car_eval = pd.read_csv('data/y_car_eval', delimiter=',')\n",
    "\n",
    "X_contraceptive = pd.read_csv('data/X_contraceptive', delimiter=',')\n",
    "y_contraceptive = pd.read_csv('data/y_contraceptive', delimiter=',')\n",
    "\n",
    "X_dermatology = pd.read_csv('data/X_dermatology', delimiter=',')\n",
    "y_dermatology = pd.read_csv('data/y_dermatology', delimiter=',')\n",
    "\n",
    "X_glass = pd.read_csv('data/X_glass', delimiter=',')\n",
    "y_glass = pd.read_csv('data/y_glass', delimiter=',')\n",
    "\n",
    "X_hayes = pd.read_csv('data/X_hayes', delimiter=',')\n",
    "y_hayes = pd.read_csv('data/y_hayes', delimiter=',')\n",
    "\n",
    "X_heart = pd.read_csv('data/X_heart', delimiter=',')\n",
    "y_heart = pd.read_csv('data/y_heart', delimiter=',')\n",
    "\n",
    "X_new_thyroid = pd.read_csv('data/X_new_thyroid', delimiter=',')\n",
    "y_new_thyroid = pd.read_csv('data/y_new_thyroid', delimiter=',')\n",
    "\n",
    "X_page = pd.read_csv('data/X_page', delimiter=',')\n",
    "y_page = pd.read_csv('data/y_page', delimiter=',')\n",
    "\n",
    "X_pen_based = pd.read_csv('data/X_pen_based', delimiter=',')\n",
    "y_pen_based = pd.read_csv('data/y_pen_based', delimiter=',')\n",
    "\n",
    "X_shuttle = pd.read_csv('data/X_shuttle', delimiter=',')\n",
    "y_shuttle = pd.read_csv('data/y_shuttle', delimiter=',')\n",
    "\n",
    "X_vertebra = pd.read_csv('data/X_vertebra', delimiter=',')\n",
    "y_vertebra = pd.read_csv('data/y_vertebra', delimiter=',')\n",
    "\n",
    "X_wine = pd.read_csv('data/X_wine', delimiter=',')\n",
    "y_wine = pd.read_csv('data/y_wine', delimiter=',')\n",
    "\n",
    "X_yeast = pd.read_csv('data/X_yeast', delimiter=',')\n",
    "y_yeast = pd.read_csv('data/y_yeast', delimiter=',')\n",
    "\n",
    "X_fars = pd.read_csv('data/X_fars', delimiter=',')\n",
    "y_fars = pd.read_csv('data/y_fars', delimiter=',')"
   ]
  },
  {
   "cell_type": "code",
   "execution_count": 6,
   "metadata": {},
   "outputs": [],
   "source": [
    "X_list = [\n",
    "    X_balance_scale, X_car_eval, X_contraceptive,\n",
    "    X_dermatology, X_glass, X_hayes, X_heart,\n",
    "    X_new_thyroid, X_page, X_pen_based, X_shuttle,\n",
    "    X_vertebra, X_wine, X_yeast, X_fars\n",
    "]\n",
    "\n",
    "y_list = [\n",
    "    y_balance_scale, y_car_eval, y_contraceptive,\n",
    "    y_dermatology, y_glass, y_hayes, y_heart,\n",
    "    y_new_thyroid, y_page, y_pen_based, y_shuttle,\n",
    "    y_vertebra, y_wine, y_yeast, y_fars\n",
    "]\n",
    "\n",
    "name_list = [\n",
    "    'Balance Scale', 'Car Evaluation', 'Contraceptive',\n",
    "    'Dermatology', 'Glass', 'Hayes', 'Heart',\n",
    "    'New Thyroid', 'Page', 'Pen Based', 'Shuttle',\n",
    "    'Vertebra', 'Wine', 'Yeast', 'FARS'\n",
    "]"
   ]
  },
  {
   "cell_type": "markdown",
   "metadata": {},
   "source": [
    "# Preprocessing\n",
    "\n",
    "### Scaling using StandardScaler()"
   ]
  },
  {
   "cell_type": "code",
   "execution_count": 56,
   "metadata": {},
   "outputs": [],
   "source": [
    "X_needed_to_scale = [X_glass, X_heart, X_new_thyroid, X_page, X_pen_based, X_shuttle, X_vertebra, X_wine, X_fars]"
   ]
  },
  {
   "cell_type": "code",
   "execution_count": 58,
   "metadata": {},
   "outputs": [],
   "source": [
    "from sklearn.preprocessing import StandardScaler\n",
    "\n",
    "def scale_df(df):\n",
    "    scaler = StandardScaler()\n",
    "    return pd.DataFrame(scaler.fit_transform(df), columns=df.columns)"
   ]
  },
  {
   "cell_type": "code",
   "execution_count": 59,
   "metadata": {},
   "outputs": [],
   "source": [
    "X_glass = scale_df(X_glass)\n",
    "X_heart = scale_df(X_heart)\n",
    "X_new_thyroid = scale_df(X_new_thyroid)\n",
    "X_page = scale_df(X_page)\n",
    "X_pen_based = scale_df(X_pen_based)\n",
    "X_shuttle = scale_df(X_shuttle)\n",
    "X_vertebra = scale_df(X_vertebra)\n",
    "X_wine = scale_df(X_wine)\n",
    "X_fars = scale_df(X_fars)"
   ]
  },
  {
   "cell_type": "code",
   "execution_count": 65,
   "metadata": {},
   "outputs": [],
   "source": [
    "X_list_scaled = [\n",
    "    X_balance_scale, X_car_eval, X_contraceptive,\n",
    "    X_dermatology, X_glass, X_hayes, X_heart,\n",
    "    X_new_thyroid, X_page, X_pen_based, X_shuttle,\n",
    "    X_vertebra, X_wine, X_yeast, X_fars\n",
    "]"
   ]
  },
  {
   "cell_type": "markdown",
   "metadata": {},
   "source": [
    "# Prediction"
   ]
  },
  {
   "cell_type": "markdown",
   "metadata": {},
   "source": [
    "### using 7 boosting algorithms to predict scaled data"
   ]
  },
  {
   "cell_type": "code",
   "execution_count": 68,
   "metadata": {},
   "outputs": [],
   "source": [
    "from sklearn.ensemble import AdaBoostClassifier, GradientBoostingClassifier\n",
    "from sklearn.model_selection import train_test_split\n",
    "from xgboost import XGBClassifier\n",
    "from lightgbm import LGBMClassifier\n",
    "from catboost import CatBoostClassifier\n",
    "from imblearn.ensemble import RUSBoostClassifier\n",
    "from adacost import AdaCost\n",
    "from utils import *\n",
    "from tqdm import tqdm"
   ]
  },
  {
   "cell_type": "code",
   "execution_count": 70,
   "metadata": {},
   "outputs": [],
   "source": [
    "clf_dict = {\n",
    "    'AdaBoost': AdaBoostClassifier(n_estimators=100, random_state=42),\n",
    "    'AdaBoost_SAMME': AdaBoostClassifier(n_estimators=100, algorithm='SAMME', random_state=42),\n",
    "    'GradientBoosting': GradientBoostingClassifier(n_estimators=100, learning_rate=0.3, max_features=2, max_depth=5, random_state=42),\n",
    "    'XGBoost': XGBClassifier(use_label_encoder=False, eval_metric='logloss'),\n",
    "    'CatBoost': CatBoostClassifier(verbose=0), \n",
    "    'RUSBoostClassifier': RUSBoostClassifier(n_estimators=200, random_state=42),\n",
    "    'AdaCost' : AdaCost(algorithm = \"SAMME.R\",random_state = 100)\n",
    "}\n",
    "\n",
    "clf_score_dict = {}"
   ]
  },
  {
   "cell_type": "code",
   "execution_count": 71,
   "metadata": {},
   "outputs": [
    {
     "name": "stderr",
     "output_type": "stream",
     "text": [
      "100%|██████████| 7/7 [03:51<00:00, 33.05s/it]\n"
     ]
    }
   ],
   "source": [
    "for clf_name, clf in tqdm(clf_dict.items()):\n",
    "    score = {}\n",
    "    \n",
    "    for i, (X, y) in enumerate(zip(X_list, y_list)):\n",
    "\n",
    "        X_train, X_test, y_train, y_test = train_test_split(X, y, test_size=0.2, random_state=42)\n",
    "        \n",
    "        clf.fit(X_train, np.ravel(y_train)) \n",
    "        \n",
    "        y_preds = clf.predict(X_test) \n",
    "        y_scores = clf.predict_proba(X_test)\n",
    "\n",
    "        score_p = metric_list(y_test,y_preds,y_scores, len(y.iloc[:,0].unique()))\n",
    "        score[name_list[i]]= score_p\n",
    "    \n",
    "    df = pd.DataFrame.from_dict(score, orient='index', columns=['accuracy', 'precision', 'recall', 'f1','Macro-Averaged AUPRC',\n",
    "                                                            'F_measure Beta=10','Modified mcc','MCC metirc','Gmean'])\n",
    "    clf_score_dict[clf_name] = df"
   ]
  },
  {
   "cell_type": "code",
   "execution_count": null,
   "metadata": {},
   "outputs": [],
   "source": []
  }
 ],
 "metadata": {
  "kernelspec": {
   "display_name": "base",
   "language": "python",
   "name": "python3"
  },
  "language_info": {
   "codemirror_mode": {
    "name": "ipython",
    "version": 3
   },
   "file_extension": ".py",
   "mimetype": "text/x-python",
   "name": "python",
   "nbconvert_exporter": "python",
   "pygments_lexer": "ipython3",
   "version": "3.9.13"
  }
 },
 "nbformat": 4,
 "nbformat_minor": 2
}
